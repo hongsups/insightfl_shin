{
 "cells": [
  {
   "cell_type": "markdown",
   "metadata": {},
   "source": [
    "# Data munghing for business pattern data"
   ]
  },
  {
   "cell_type": "code",
   "execution_count": 232,
   "metadata": {
    "collapsed": false
   },
   "outputs": [],
   "source": [
    "import requests\n",
    "import numpy as np\n",
    "import pandas as pd\n",
    "import matplotlib\n",
    "import matplotlib.pyplot as plt\n",
    "%matplotlib inline\n",
    "import csv\n",
    "import seaborn as sns\n",
    "font = {'family' : 'Arial',\n",
    "        'weight' : 'bold',\n",
    "        'size'   : 25}\n",
    "matplotlib.rc('font', **font)\n",
    "from census import Census\n",
    "from us import states\n",
    "import csv"
   ]
  },
  {
   "cell_type": "markdown",
   "metadata": {},
   "source": [
    "# 1. Download the table from [the website](http://www.census.gov/econ/cbp/download/)\n",
    "- zip code, business type, # of establishment by # of employees"
   ]
  },
  {
   "cell_type": "markdown",
   "metadata": {},
   "source": [
    "# 2. Concatenate tables for corresponding zip codes"
   ]
  },
  {
   "cell_type": "code",
   "execution_count": 427,
   "metadata": {
    "collapsed": true
   },
   "outputs": [],
   "source": [
    "# load zip codes\n",
    "import pickle\n",
    "with open('zipcode_final.txt', 'rb') as f:\n",
    "    zip_codes = pickle.load(f)    "
   ]
  },
  {
   "cell_type": "code",
   "execution_count": 236,
   "metadata": {
    "collapsed": false
   },
   "outputs": [
    {
     "name": "stderr",
     "output_type": "stream",
     "text": [
      "Skipping line 1420726: expected 12 fields, saw 19\n",
      "Skipping line 1420729: expected 12 fields, saw 16\n",
      "Skipping line 1420731: expected 12 fields, saw 33\n",
      "Skipping line 1420733: expected 12 fields, saw 13\n",
      "Skipping line 1420735: expected 12 fields, saw 30\n",
      "Skipping line 1420736: expected 12 fields, saw 18\n",
      "Skipping line 1420737: expected 12 fields, saw 24\n",
      "Skipping line 1420741: expected 12 fields, saw 22\n",
      "Skipping line 1420745: expected 12 fields, saw 17\n",
      "Skipping line 1420752: expected 12 fields, saw 26\n",
      "Skipping line 1420753: expected 12 fields, saw 13\n",
      "Skipping line 1420756: expected 12 fields, saw 22\n",
      "Skipping line 1420762: expected 12 fields, saw 15\n",
      "Skipping line 1420764: expected 12 fields, saw 13\n",
      "Skipping line 1420766: expected 12 fields, saw 32\n",
      "Skipping line 1420767: expected 12 fields, saw 34\n",
      "Skipping line 1420769: expected 12 fields, saw 23\n",
      "Skipping line 1420770: expected 12 fields, saw 19\n",
      "Skipping line 1420774: expected 12 fields, saw 17\n",
      "Skipping line 1420775: expected 12 fields, saw 17\n",
      "Skipping line 1420777: expected 12 fields, saw 16\n",
      "Skipping line 1420778: expected 12 fields, saw 14\n",
      "Skipping line 1420779: expected 12 fields, saw 14\n",
      "Skipping line 1420785: expected 12 fields, saw 19\n",
      "Skipping line 1420786: expected 12 fields, saw 17\n",
      "Skipping line 1420788: expected 12 fields, saw 22\n",
      "Skipping line 1420793: expected 12 fields, saw 37\n",
      "Skipping line 1420795: expected 12 fields, saw 17\n",
      "Skipping line 1420796: expected 12 fields, saw 32\n",
      "Skipping line 1420797: expected 12 fields, saw 23\n",
      "\n",
      "/Users/Hongsup/anaconda/lib/python2.7/site-packages/pandas/io/parsers.py:1170: DtypeWarning: Columns (0,2,3,4,5,6,8) have mixed types. Specify dtype option on import or set low_memory=False.\n",
      "  data = self._reader.read(nrows)\n"
     ]
    },
    {
     "data": {
      "text/html": [
       "<div>\n",
       "<table border=\"1\" class=\"dataframe\">\n",
       "  <thead>\n",
       "    <tr style=\"text-align: right;\">\n",
       "      <th></th>\n",
       "      <th>zip</th>\n",
       "      <th>naics</th>\n",
       "      <th>est</th>\n",
       "      <th>n1_4</th>\n",
       "      <th>n5_9</th>\n",
       "      <th>n10_19</th>\n",
       "      <th>n20_49</th>\n",
       "      <th>n50_99</th>\n",
       "      <th>n100_249</th>\n",
       "      <th>n250_499</th>\n",
       "      <th>n500_999</th>\n",
       "      <th>n1000</th>\n",
       "      <th>year</th>\n",
       "    </tr>\n",
       "  </thead>\n",
       "  <tbody>\n",
       "    <tr>\n",
       "      <th>0</th>\n",
       "      <td>2108</td>\n",
       "      <td>------</td>\n",
       "      <td>1125</td>\n",
       "      <td>575</td>\n",
       "      <td>190</td>\n",
       "      <td>153</td>\n",
       "      <td>116</td>\n",
       "      <td>47</td>\n",
       "      <td>36</td>\n",
       "      <td>7</td>\n",
       "      <td>0</td>\n",
       "      <td>1</td>\n",
       "      <td>2011</td>\n",
       "    </tr>\n",
       "    <tr>\n",
       "      <th>1</th>\n",
       "      <td>2108</td>\n",
       "      <td>23----</td>\n",
       "      <td>4</td>\n",
       "      <td>3</td>\n",
       "      <td>0</td>\n",
       "      <td>0</td>\n",
       "      <td>1</td>\n",
       "      <td>0</td>\n",
       "      <td>0</td>\n",
       "      <td>0</td>\n",
       "      <td>0</td>\n",
       "      <td>0</td>\n",
       "      <td>2011</td>\n",
       "    </tr>\n",
       "    <tr>\n",
       "      <th>2</th>\n",
       "      <td>2108</td>\n",
       "      <td>236115</td>\n",
       "      <td>1</td>\n",
       "      <td>1</td>\n",
       "      <td>0</td>\n",
       "      <td>0</td>\n",
       "      <td>0</td>\n",
       "      <td>0</td>\n",
       "      <td>0</td>\n",
       "      <td>0</td>\n",
       "      <td>0</td>\n",
       "      <td>0</td>\n",
       "      <td>2011</td>\n",
       "    </tr>\n",
       "    <tr>\n",
       "      <th>3</th>\n",
       "      <td>2108</td>\n",
       "      <td>236116</td>\n",
       "      <td>2</td>\n",
       "      <td>1</td>\n",
       "      <td>0</td>\n",
       "      <td>0</td>\n",
       "      <td>1</td>\n",
       "      <td>0</td>\n",
       "      <td>0</td>\n",
       "      <td>0</td>\n",
       "      <td>0</td>\n",
       "      <td>0</td>\n",
       "      <td>2011</td>\n",
       "    </tr>\n",
       "    <tr>\n",
       "      <th>4</th>\n",
       "      <td>2108</td>\n",
       "      <td>238220</td>\n",
       "      <td>1</td>\n",
       "      <td>1</td>\n",
       "      <td>0</td>\n",
       "      <td>0</td>\n",
       "      <td>0</td>\n",
       "      <td>0</td>\n",
       "      <td>0</td>\n",
       "      <td>0</td>\n",
       "      <td>0</td>\n",
       "      <td>0</td>\n",
       "      <td>2011</td>\n",
       "    </tr>\n",
       "  </tbody>\n",
       "</table>\n",
       "</div>"
      ],
      "text/plain": [
       "    zip   naics   est n1_4 n5_9 n10_19 n20_49  n50_99 n100_249  n250_499  \\\n",
       "0  2108  ------  1125  575  190    153    116      47       36         7   \n",
       "1  2108  23----     4    3    0      0      1       0        0         0   \n",
       "2  2108  236115     1    1    0      0      0       0        0         0   \n",
       "3  2108  236116     2    1    0      0      1       0        0         0   \n",
       "4  2108  238220     1    1    0      0      0       0        0         0   \n",
       "\n",
       "   n500_999  n1000  year  \n",
       "0         0      1  2011  \n",
       "1         0      0  2011  \n",
       "2         0      0  2011  \n",
       "3         0      0  2011  \n",
       "4         0      0  2011  "
      ]
     },
     "execution_count": 236,
     "metadata": {},
     "output_type": "execute_result"
    }
   ],
   "source": [
    "# concatenate tables with different years and zip codes\n",
    "df = pd.DataFrame()\n",
    "years = range(2011,2014)\n",
    "for year in years:\n",
    "    temp = pd.read_csv('zbp'+ str(year-2000) +'detail.txt',error_bad_lines=False)\n",
    "    temp['year']=year\n",
    "    temp = temp.loc[temp['zip'].isin(map(int,zip_codes))]\n",
    "    df = pd.concat([df,temp],ignore_index=True)\n",
    "df.head()    "
   ]
  },
  {
   "cell_type": "markdown",
   "metadata": {},
   "source": [
    "# 3. Simplify the business code"
   ]
  },
  {
   "cell_type": "code",
   "execution_count": 238,
   "metadata": {
    "collapsed": true
   },
   "outputs": [],
   "source": [
    "\"\"\"\n",
    "    11\tAgriculture, Forestry, Fishing and Hunting\n",
    "    21\tMining, Quarrying, and Oil and Gas Extraction\n",
    "    22\tUtilities\n",
    "    #23\tConstruction\n",
    "    31-33\tManufacturing\n",
    "    #42\tWholesale Trade\n",
    "    #44-45\tRetail Trade\n",
    "    48-49\tTransportation and Warehousing\n",
    "    #51\tInformation\n",
    "    #52\tFinance and Insurance\n",
    "    #53\tReal Estate and Rental and Leasing\n",
    "    #54\tProfessional, Scientific, and Technical Services\n",
    "    #55\tManagement of Companies and Enterprises\n",
    "    56\tAdministrative and Support and Waste Management and Remediation Services\n",
    "    61\tEducational Services\n",
    "    62\tHealth Care and Social Assistance\n",
    "    71\tArts, Entertainment, and Recreation\n",
    "    #72\tAccommodation and Food Services\n",
    "    81\tOther Services (except Public Administration)\n",
    "    92\tPublic Administration\n",
    "    \n",
    "    potential parameters: 23, 42, 45, 51, 52, 53, 54, 55, 72\n",
    "\"\"\"\n",
    "def conver_business_type(old_code):\n",
    "    \"\"\"\n",
    "        Convert N digit nacis codes to 2 digits\n",
    "        http://www.census.gov/cgi-bin/sssd/naics/naicsrch?chart=2012\n",
    "    \"\"\"\n",
    "    # get the first two digit\n",
    "    new_code = old_code[:2]\n",
    "    # simplify\n",
    "#     31-33\tManufacturing\n",
    "#     44-45\tRetail Trade\n",
    "#     48-49\tTransportation and Warehousing\n",
    "    if new_code != '--':\n",
    "        new_int = int(new_code)\n",
    "        if new_int >= 31 and new_int <= 33:\n",
    "            new_code = '30'\n",
    "        elif new_int >= 44 and new_int <= 45:\n",
    "            new_code = '45'\n",
    "        elif new_int >= 48 and new_int <= 49:\n",
    "            new_code = '49'\n",
    "    return new_code"
   ]
  },
  {
   "cell_type": "code",
   "execution_count": 239,
   "metadata": {
    "collapsed": false,
    "scrolled": true
   },
   "outputs": [],
   "source": [
    "# create new column for simplified business_code\n",
    "df['business_code']=df['naics'].apply(lambda x: conver_business_type(x))"
   ]
  },
  {
   "cell_type": "code",
   "execution_count": 240,
   "metadata": {
    "collapsed": false
   },
   "outputs": [
    {
     "data": {
      "text/html": [
       "<div>\n",
       "<table border=\"1\" class=\"dataframe\">\n",
       "  <thead>\n",
       "    <tr style=\"text-align: right;\">\n",
       "      <th></th>\n",
       "      <th>zip_code</th>\n",
       "      <th>naics</th>\n",
       "      <th>est</th>\n",
       "      <th>n1_4</th>\n",
       "      <th>n5_9</th>\n",
       "      <th>n10_19</th>\n",
       "      <th>n20_49</th>\n",
       "      <th>n50_99</th>\n",
       "      <th>n100_249</th>\n",
       "      <th>n250_499</th>\n",
       "      <th>n500_999</th>\n",
       "      <th>n1000</th>\n",
       "      <th>year</th>\n",
       "      <th>business_code</th>\n",
       "    </tr>\n",
       "  </thead>\n",
       "  <tbody>\n",
       "    <tr>\n",
       "      <th>0</th>\n",
       "      <td>2108</td>\n",
       "      <td>------</td>\n",
       "      <td>1125</td>\n",
       "      <td>575</td>\n",
       "      <td>190</td>\n",
       "      <td>153</td>\n",
       "      <td>116</td>\n",
       "      <td>47</td>\n",
       "      <td>36</td>\n",
       "      <td>7</td>\n",
       "      <td>0</td>\n",
       "      <td>1</td>\n",
       "      <td>2011</td>\n",
       "      <td>--</td>\n",
       "    </tr>\n",
       "    <tr>\n",
       "      <th>1</th>\n",
       "      <td>2108</td>\n",
       "      <td>23----</td>\n",
       "      <td>4</td>\n",
       "      <td>3</td>\n",
       "      <td>0</td>\n",
       "      <td>0</td>\n",
       "      <td>1</td>\n",
       "      <td>0</td>\n",
       "      <td>0</td>\n",
       "      <td>0</td>\n",
       "      <td>0</td>\n",
       "      <td>0</td>\n",
       "      <td>2011</td>\n",
       "      <td>23</td>\n",
       "    </tr>\n",
       "    <tr>\n",
       "      <th>2</th>\n",
       "      <td>2108</td>\n",
       "      <td>236115</td>\n",
       "      <td>1</td>\n",
       "      <td>1</td>\n",
       "      <td>0</td>\n",
       "      <td>0</td>\n",
       "      <td>0</td>\n",
       "      <td>0</td>\n",
       "      <td>0</td>\n",
       "      <td>0</td>\n",
       "      <td>0</td>\n",
       "      <td>0</td>\n",
       "      <td>2011</td>\n",
       "      <td>23</td>\n",
       "    </tr>\n",
       "    <tr>\n",
       "      <th>3</th>\n",
       "      <td>2108</td>\n",
       "      <td>236116</td>\n",
       "      <td>2</td>\n",
       "      <td>1</td>\n",
       "      <td>0</td>\n",
       "      <td>0</td>\n",
       "      <td>1</td>\n",
       "      <td>0</td>\n",
       "      <td>0</td>\n",
       "      <td>0</td>\n",
       "      <td>0</td>\n",
       "      <td>0</td>\n",
       "      <td>2011</td>\n",
       "      <td>23</td>\n",
       "    </tr>\n",
       "    <tr>\n",
       "      <th>4</th>\n",
       "      <td>2108</td>\n",
       "      <td>238220</td>\n",
       "      <td>1</td>\n",
       "      <td>1</td>\n",
       "      <td>0</td>\n",
       "      <td>0</td>\n",
       "      <td>0</td>\n",
       "      <td>0</td>\n",
       "      <td>0</td>\n",
       "      <td>0</td>\n",
       "      <td>0</td>\n",
       "      <td>0</td>\n",
       "      <td>2011</td>\n",
       "      <td>23</td>\n",
       "    </tr>\n",
       "  </tbody>\n",
       "</table>\n",
       "</div>"
      ],
      "text/plain": [
       "  zip_code   naics   est n1_4 n5_9 n10_19 n20_49  n50_99 n100_249  n250_499  \\\n",
       "0     2108  ------  1125  575  190    153    116      47       36         7   \n",
       "1     2108  23----     4    3    0      0      1       0        0         0   \n",
       "2     2108  236115     1    1    0      0      0       0        0         0   \n",
       "3     2108  236116     2    1    0      0      1       0        0         0   \n",
       "4     2108  238220     1    1    0      0      0       0        0         0   \n",
       "\n",
       "   n500_999  n1000  year business_code  \n",
       "0         0      1  2011            --  \n",
       "1         0      0  2011            23  \n",
       "2         0      0  2011            23  \n",
       "3         0      0  2011            23  \n",
       "4         0      0  2011            23  "
      ]
     },
     "execution_count": 240,
     "metadata": {},
     "output_type": "execute_result"
    }
   ],
   "source": [
    "# rename for consistence\n",
    "df=df.rename(columns = {'zip':'zip_code'})\n",
    "df.head()"
   ]
  },
  {
   "cell_type": "code",
   "execution_count": 56,
   "metadata": {
    "collapsed": true
   },
   "outputs": [],
   "source": [
    "# Add column that show potentially good indicators\n",
    "# 23\tConstruction\n",
    "# 42\tWholesale Trade\n",
    "# 45\tRetail Trade\n",
    "# 51\tInformation\n",
    "# 52\tFinance and Insurance\n",
    "# 53\tReal Estate and Rental and Leasing\n",
    "# 54\tProfessional, Scientific, and Technical Services\n",
    "# 55\tManagement of Companies and Enterprises\n",
    "# 72\tAccommodation and Food Services\n",
    "# good_biz_code_list = [23,42,45,51,52,53,54,55,72]"
   ]
  },
  {
   "cell_type": "code",
   "execution_count": 243,
   "metadata": {
    "collapsed": true
   },
   "outputs": [],
   "source": [
    "# save\n",
    "df.to_csv('biz_sum.csv',encoding='utf-8',index=False)"
   ]
  },
  {
   "cell_type": "code",
   "execution_count": 244,
   "metadata": {
    "collapsed": false
   },
   "outputs": [
    {
     "data": {
      "text/html": [
       "<div>\n",
       "<table border=\"1\" class=\"dataframe\">\n",
       "  <thead>\n",
       "    <tr style=\"text-align: right;\">\n",
       "      <th></th>\n",
       "      <th>zip_code</th>\n",
       "      <th>naics</th>\n",
       "      <th>est</th>\n",
       "      <th>n1_4</th>\n",
       "      <th>n5_9</th>\n",
       "      <th>n10_19</th>\n",
       "      <th>n20_49</th>\n",
       "      <th>n50_99</th>\n",
       "      <th>n100_249</th>\n",
       "      <th>n250_499</th>\n",
       "      <th>n500_999</th>\n",
       "      <th>n1000</th>\n",
       "      <th>year</th>\n",
       "      <th>business_code</th>\n",
       "    </tr>\n",
       "  </thead>\n",
       "  <tbody>\n",
       "    <tr>\n",
       "      <th>0</th>\n",
       "      <td>2108</td>\n",
       "      <td>------</td>\n",
       "      <td>1125</td>\n",
       "      <td>575</td>\n",
       "      <td>190</td>\n",
       "      <td>153</td>\n",
       "      <td>116</td>\n",
       "      <td>47</td>\n",
       "      <td>36</td>\n",
       "      <td>7</td>\n",
       "      <td>0</td>\n",
       "      <td>1</td>\n",
       "      <td>2011</td>\n",
       "      <td>--</td>\n",
       "    </tr>\n",
       "    <tr>\n",
       "      <th>1</th>\n",
       "      <td>2108</td>\n",
       "      <td>23----</td>\n",
       "      <td>4</td>\n",
       "      <td>3</td>\n",
       "      <td>0</td>\n",
       "      <td>0</td>\n",
       "      <td>1</td>\n",
       "      <td>0</td>\n",
       "      <td>0</td>\n",
       "      <td>0</td>\n",
       "      <td>0</td>\n",
       "      <td>0</td>\n",
       "      <td>2011</td>\n",
       "      <td>23</td>\n",
       "    </tr>\n",
       "    <tr>\n",
       "      <th>2</th>\n",
       "      <td>2108</td>\n",
       "      <td>236115</td>\n",
       "      <td>1</td>\n",
       "      <td>1</td>\n",
       "      <td>0</td>\n",
       "      <td>0</td>\n",
       "      <td>0</td>\n",
       "      <td>0</td>\n",
       "      <td>0</td>\n",
       "      <td>0</td>\n",
       "      <td>0</td>\n",
       "      <td>0</td>\n",
       "      <td>2011</td>\n",
       "      <td>23</td>\n",
       "    </tr>\n",
       "    <tr>\n",
       "      <th>3</th>\n",
       "      <td>2108</td>\n",
       "      <td>236116</td>\n",
       "      <td>2</td>\n",
       "      <td>1</td>\n",
       "      <td>0</td>\n",
       "      <td>0</td>\n",
       "      <td>1</td>\n",
       "      <td>0</td>\n",
       "      <td>0</td>\n",
       "      <td>0</td>\n",
       "      <td>0</td>\n",
       "      <td>0</td>\n",
       "      <td>2011</td>\n",
       "      <td>23</td>\n",
       "    </tr>\n",
       "    <tr>\n",
       "      <th>4</th>\n",
       "      <td>2108</td>\n",
       "      <td>238220</td>\n",
       "      <td>1</td>\n",
       "      <td>1</td>\n",
       "      <td>0</td>\n",
       "      <td>0</td>\n",
       "      <td>0</td>\n",
       "      <td>0</td>\n",
       "      <td>0</td>\n",
       "      <td>0</td>\n",
       "      <td>0</td>\n",
       "      <td>0</td>\n",
       "      <td>2011</td>\n",
       "      <td>23</td>\n",
       "    </tr>\n",
       "  </tbody>\n",
       "</table>\n",
       "</div>"
      ],
      "text/plain": [
       "   zip_code   naics   est  n1_4  n5_9  n10_19  n20_49  n50_99  n100_249  \\\n",
       "0      2108  ------  1125   575   190     153     116      47        36   \n",
       "1      2108  23----     4     3     0       0       1       0         0   \n",
       "2      2108  236115     1     1     0       0       0       0         0   \n",
       "3      2108  236116     2     1     0       0       1       0         0   \n",
       "4      2108  238220     1     1     0       0       0       0         0   \n",
       "\n",
       "   n250_499  n500_999  n1000  year business_code  \n",
       "0         7         0      1  2011            --  \n",
       "1         0         0      0  2011            23  \n",
       "2         0         0      0  2011            23  \n",
       "3         0         0      0  2011            23  \n",
       "4         0         0      0  2011            23  "
      ]
     },
     "execution_count": 244,
     "metadata": {},
     "output_type": "execute_result"
    }
   ],
   "source": [
    "df = pd.read_csv('biz_sum.csv')\n",
    "df.head()"
   ]
  },
  {
   "cell_type": "markdown",
   "metadata": {},
   "source": [
    "# 4. Fill the gaps for non-existing data"
   ]
  },
  {
   "cell_type": "code",
   "execution_count": 261,
   "metadata": {
    "collapsed": false
   },
   "outputs": [
    {
     "data": {
      "text/html": [
       "<div>\n",
       "<table border=\"1\" class=\"dataframe\">\n",
       "  <thead>\n",
       "    <tr style=\"text-align: right;\">\n",
       "      <th></th>\n",
       "      <th>year</th>\n",
       "      <th>zip_code</th>\n",
       "      <th>business_code</th>\n",
       "      <th>est</th>\n",
       "    </tr>\n",
       "  </thead>\n",
       "  <tbody>\n",
       "    <tr>\n",
       "      <th>0</th>\n",
       "      <td>2011</td>\n",
       "      <td>21201</td>\n",
       "      <td>22</td>\n",
       "      <td>4</td>\n",
       "    </tr>\n",
       "    <tr>\n",
       "      <th>1</th>\n",
       "      <td>2011</td>\n",
       "      <td>21201</td>\n",
       "      <td>23</td>\n",
       "      <td>38</td>\n",
       "    </tr>\n",
       "    <tr>\n",
       "      <th>2</th>\n",
       "      <td>2011</td>\n",
       "      <td>21201</td>\n",
       "      <td>30</td>\n",
       "      <td>20</td>\n",
       "    </tr>\n",
       "    <tr>\n",
       "      <th>3</th>\n",
       "      <td>2011</td>\n",
       "      <td>21201</td>\n",
       "      <td>42</td>\n",
       "      <td>60</td>\n",
       "    </tr>\n",
       "    <tr>\n",
       "      <th>4</th>\n",
       "      <td>2011</td>\n",
       "      <td>21201</td>\n",
       "      <td>45</td>\n",
       "      <td>286</td>\n",
       "    </tr>\n",
       "  </tbody>\n",
       "</table>\n",
       "</div>"
      ],
      "text/plain": [
       "   year  zip_code business_code  est\n",
       "0  2011     21201            22    4\n",
       "1  2011     21201            23   38\n",
       "2  2011     21201            30   20\n",
       "3  2011     21201            42   60\n",
       "4  2011     21201            45  286"
      ]
     },
     "execution_count": 261,
     "metadata": {},
     "output_type": "execute_result"
    }
   ],
   "source": [
    "# simplify the table\n",
    "df2 = df[['year','zip_code','business_code','est']]\n",
    "df2.head()"
   ]
  },
  {
   "cell_type": "code",
   "execution_count": 247,
   "metadata": {
    "collapsed": false,
    "scrolled": true
   },
   "outputs": [
    {
     "data": {
      "text/html": [
       "<div>\n",
       "<table border=\"1\" class=\"dataframe\">\n",
       "  <thead>\n",
       "    <tr style=\"text-align: right;\">\n",
       "      <th></th>\n",
       "      <th>zip_code</th>\n",
       "      <th>year</th>\n",
       "      <th>business_code</th>\n",
       "      <th>est</th>\n",
       "    </tr>\n",
       "  </thead>\n",
       "  <tbody>\n",
       "    <tr>\n",
       "      <th>0</th>\n",
       "      <td>2108</td>\n",
       "      <td>2011</td>\n",
       "      <td>--</td>\n",
       "      <td>1125</td>\n",
       "    </tr>\n",
       "    <tr>\n",
       "      <th>1</th>\n",
       "      <td>2108</td>\n",
       "      <td>2011</td>\n",
       "      <td>23</td>\n",
       "      <td>8</td>\n",
       "    </tr>\n",
       "    <tr>\n",
       "      <th>2</th>\n",
       "      <td>2108</td>\n",
       "      <td>2011</td>\n",
       "      <td>30</td>\n",
       "      <td>20</td>\n",
       "    </tr>\n",
       "    <tr>\n",
       "      <th>3</th>\n",
       "      <td>2108</td>\n",
       "      <td>2011</td>\n",
       "      <td>42</td>\n",
       "      <td>58</td>\n",
       "    </tr>\n",
       "    <tr>\n",
       "      <th>4</th>\n",
       "      <td>2108</td>\n",
       "      <td>2011</td>\n",
       "      <td>45</td>\n",
       "      <td>220</td>\n",
       "    </tr>\n",
       "  </tbody>\n",
       "</table>\n",
       "</div>"
      ],
      "text/plain": [
       "   zip_code  year business_code   est\n",
       "0      2108  2011            --  1125\n",
       "1      2108  2011            23     8\n",
       "2      2108  2011            30    20\n",
       "3      2108  2011            42    58\n",
       "4      2108  2011            45   220"
      ]
     },
     "execution_count": 247,
     "metadata": {},
     "output_type": "execute_result"
    }
   ],
   "source": [
    "# sum and normalize\n",
    "# 1. Sum: use pandas groupby\n",
    "gb = df2.groupby(('zip_code','year','business_code'),as_index=False)\n",
    "gb_sum = gb.agg(np.sum)\n",
    "gb_sum.head()"
   ]
  },
  {
   "cell_type": "code",
   "execution_count": 288,
   "metadata": {
    "collapsed": false
   },
   "outputs": [],
   "source": [
    "# Compute growth rate: divide year_(N+1) by year_N (>1: growth)\n",
    "gb2 = gb_sum.groupby(('zip_code','year'))"
   ]
  },
  {
   "cell_type": "code",
   "execution_count": 413,
   "metadata": {
    "collapsed": true
   },
   "outputs": [],
   "source": [
    "# Create empty cell if the business type does not exist.\n",
    "business_codes = [11, 21, 22, 23, 30, 42, 45, 49, 51, 52, 53, 54, 55, 56, 61, 62, 71, 72, 81, 99]"
   ]
  },
  {
   "cell_type": "code",
   "execution_count": 431,
   "metadata": {
    "collapsed": false,
    "scrolled": false
   },
   "outputs": [],
   "source": [
    "# for every year and every zip code, create same list of business_codes\n",
    "# if not exist, est value = 0\n",
    "years = range(2011,2014)\n",
    "df_biz = pd.DataFrame()\n",
    "for year in years:\n",
    "    for zip_code in zip_codes:\n",
    "        try:\n",
    "            a = gb2.get_group((int(zip_code),year))\n",
    "            est_list = []\n",
    "            temp = pd.DataFrame()\n",
    "            for i in range(len(business_codes)):\n",
    "                business_code = business_codes[i]\n",
    "                if str(business_code) in a['business_code'].values:\n",
    "                    est_list.append(int(a[a['business_code']==str(business_code)]['est']))\n",
    "                else:\n",
    "                    est_list.append(0)\n",
    "            temp['business_code']=pd.Series(business_codes)\n",
    "            temp['est']=pd.DataFrame(est_list)\n",
    "            temp['zip_code']=zip_code\n",
    "            temp['year']=year\n",
    "            df_biz = pd.concat([df_biz,temp],ignore_index=True)\n",
    "        except KeyError:\n",
    "            continue                "
   ]
  },
  {
   "cell_type": "code",
   "execution_count": 443,
   "metadata": {
    "collapsed": true
   },
   "outputs": [],
   "source": [
    "# save\n",
    "df_biz.to_csv('biz_sum_final.csv',encoding='utf-8',index=False)"
   ]
  },
  {
   "cell_type": "markdown",
   "metadata": {},
   "source": [
    "# 5. Predictor: growth rate per business category"
   ]
  },
  {
   "cell_type": "code",
   "execution_count": 444,
   "metadata": {
    "collapsed": false,
    "scrolled": false
   },
   "outputs": [
    {
     "data": {
      "text/html": [
       "<div>\n",
       "<table border=\"1\" class=\"dataframe\">\n",
       "  <thead>\n",
       "    <tr style=\"text-align: right;\">\n",
       "      <th></th>\n",
       "      <th>business_code</th>\n",
       "      <th>est</th>\n",
       "      <th>zip_code</th>\n",
       "      <th>year</th>\n",
       "    </tr>\n",
       "  </thead>\n",
       "  <tbody>\n",
       "    <tr>\n",
       "      <th>0</th>\n",
       "      <td>11</td>\n",
       "      <td>0</td>\n",
       "      <td>21201</td>\n",
       "      <td>2011</td>\n",
       "    </tr>\n",
       "    <tr>\n",
       "      <th>1</th>\n",
       "      <td>21</td>\n",
       "      <td>0</td>\n",
       "      <td>21201</td>\n",
       "      <td>2011</td>\n",
       "    </tr>\n",
       "    <tr>\n",
       "      <th>2</th>\n",
       "      <td>22</td>\n",
       "      <td>4</td>\n",
       "      <td>21201</td>\n",
       "      <td>2011</td>\n",
       "    </tr>\n",
       "    <tr>\n",
       "      <th>3</th>\n",
       "      <td>23</td>\n",
       "      <td>38</td>\n",
       "      <td>21201</td>\n",
       "      <td>2011</td>\n",
       "    </tr>\n",
       "    <tr>\n",
       "      <th>4</th>\n",
       "      <td>30</td>\n",
       "      <td>20</td>\n",
       "      <td>21201</td>\n",
       "      <td>2011</td>\n",
       "    </tr>\n",
       "  </tbody>\n",
       "</table>\n",
       "</div>"
      ],
      "text/plain": [
       "   business_code  est zip_code  year\n",
       "0             11    0    21201  2011\n",
       "1             21    0    21201  2011\n",
       "2             22    4    21201  2011\n",
       "3             23   38    21201  2011\n",
       "4             30   20    21201  2011"
      ]
     },
     "execution_count": 444,
     "metadata": {},
     "output_type": "execute_result"
    }
   ],
   "source": [
    "df_biz.head()"
   ]
  },
  {
   "cell_type": "code",
   "execution_count": 445,
   "metadata": {
    "collapsed": true
   },
   "outputs": [],
   "source": [
    "gb_biz = df_biz.groupby(('year','zip_code','business_code'))"
   ]
  },
  {
   "cell_type": "code",
   "execution_count": 471,
   "metadata": {
    "collapsed": false
   },
   "outputs": [
    {
     "data": {
      "text/html": [
       "<div>\n",
       "<table border=\"1\" class=\"dataframe\">\n",
       "  <thead>\n",
       "    <tr style=\"text-align: right;\">\n",
       "      <th></th>\n",
       "      <th>business_code</th>\n",
       "      <th>growth</th>\n",
       "      <th>year</th>\n",
       "      <th>zip_code</th>\n",
       "    </tr>\n",
       "  </thead>\n",
       "  <tbody>\n",
       "    <tr>\n",
       "      <th>0</th>\n",
       "      <td>99</td>\n",
       "      <td>[nan]</td>\n",
       "      <td>2011</td>\n",
       "      <td>90089</td>\n",
       "    </tr>\n",
       "  </tbody>\n",
       "</table>\n",
       "</div>"
      ],
      "text/plain": [
       "   business_code growth  year zip_code\n",
       "0             99  [nan]  2011    90089"
      ]
     },
     "execution_count": 471,
     "metadata": {},
     "output_type": "execute_result"
    }
   ],
   "source": [
    "df_all"
   ]
  },
  {
   "cell_type": "code",
   "execution_count": 512,
   "metadata": {
    "collapsed": false,
    "scrolled": true
   },
   "outputs": [],
   "source": [
    "ref_years = [2011, 2012]\n",
    "df_biz_growth = pd.DataFrame()\n",
    "for ref_year in ref_years:\n",
    "    for zip_code in zip_codes:\n",
    "        for business_code in business_codes:\n",
    "            try:\n",
    "                prev_year = int(gb_biz.get_group((ref_year,zip_code,business_code))['est'].values)\n",
    "                this_year = int(gb_biz.get_group((ref_year+1,zip_code,business_code))['est'].values)\n",
    "                if prev_year == 0 & this_year > 0:\n",
    "                    growth = 2\n",
    "                elif prev_year == 0 & this_year == 0:\n",
    "                    growth = 0\n",
    "                else:\n",
    "                    growth = (this_year - prev_year+.0)/prev_year\n",
    "                data = [dict(year = ref_year,\n",
    "                            zip_code = zip_code,\n",
    "                            business_code = business_code,\n",
    "                            growth = growth)]        \n",
    "                temp = pd.DataFrame(data)\n",
    "                df_biz_growth = pd.concat([df_biz_growth,temp],ignore_index=True)\n",
    "            except KeyError:\n",
    "                continue                "
   ]
  },
  {
   "cell_type": "code",
   "execution_count": 513,
   "metadata": {
    "collapsed": false,
    "scrolled": true
   },
   "outputs": [
    {
     "name": "stdout",
     "output_type": "stream",
     "text": [
      "   business_code    growth  year zip_code\n",
      "0             11  0.000000  2011    21201\n",
      "1             21  0.000000  2011    21201\n",
      "2             22  0.000000  2011    21201\n",
      "3             23  0.052632  2011    21201\n",
      "4             30 -0.300000  2011    21201\n"
     ]
    },
    {
     "data": {
      "text/plain": [
       "23120"
      ]
     },
     "execution_count": 513,
     "metadata": {},
     "output_type": "execute_result"
    }
   ],
   "source": [
    "print df_biz_growth.head()\n",
    "len(df_biz_growth)"
   ]
  },
  {
   "cell_type": "code",
   "execution_count": 515,
   "metadata": {
    "collapsed": true
   },
   "outputs": [],
   "source": [
    "df_biz_growth.to_csv('biz_growth.csv',encoding='utf-8',index=False)"
   ]
  },
  {
   "cell_type": "code",
   "execution_count": 516,
   "metadata": {
    "collapsed": true
   },
   "outputs": [],
   "source": [
    "gb3 = df_biz_growth.groupby(('year','zip_code'))"
   ]
  },
  {
   "cell_type": "code",
   "execution_count": 517,
   "metadata": {
    "collapsed": false,
    "scrolled": true
   },
   "outputs": [
    {
     "data": {
      "text/html": [
       "<div>\n",
       "<table border=\"1\" class=\"dataframe\">\n",
       "  <thead>\n",
       "    <tr style=\"text-align: right;\">\n",
       "      <th></th>\n",
       "      <th>business_code</th>\n",
       "      <th>growth</th>\n",
       "      <th>year</th>\n",
       "      <th>zip_code</th>\n",
       "    </tr>\n",
       "  </thead>\n",
       "  <tbody>\n",
       "    <tr>\n",
       "      <th>11560</th>\n",
       "      <td>11</td>\n",
       "      <td>0.000000</td>\n",
       "      <td>2012</td>\n",
       "      <td>21201</td>\n",
       "    </tr>\n",
       "    <tr>\n",
       "      <th>11561</th>\n",
       "      <td>21</td>\n",
       "      <td>0.000000</td>\n",
       "      <td>2012</td>\n",
       "      <td>21201</td>\n",
       "    </tr>\n",
       "    <tr>\n",
       "      <th>11562</th>\n",
       "      <td>22</td>\n",
       "      <td>0.000000</td>\n",
       "      <td>2012</td>\n",
       "      <td>21201</td>\n",
       "    </tr>\n",
       "    <tr>\n",
       "      <th>11563</th>\n",
       "      <td>23</td>\n",
       "      <td>0.150000</td>\n",
       "      <td>2012</td>\n",
       "      <td>21201</td>\n",
       "    </tr>\n",
       "    <tr>\n",
       "      <th>11564</th>\n",
       "      <td>30</td>\n",
       "      <td>0.000000</td>\n",
       "      <td>2012</td>\n",
       "      <td>21201</td>\n",
       "    </tr>\n",
       "    <tr>\n",
       "      <th>11565</th>\n",
       "      <td>42</td>\n",
       "      <td>0.136364</td>\n",
       "      <td>2012</td>\n",
       "      <td>21201</td>\n",
       "    </tr>\n",
       "    <tr>\n",
       "      <th>11566</th>\n",
       "      <td>45</td>\n",
       "      <td>-0.020833</td>\n",
       "      <td>2012</td>\n",
       "      <td>21201</td>\n",
       "    </tr>\n",
       "    <tr>\n",
       "      <th>11567</th>\n",
       "      <td>49</td>\n",
       "      <td>0.333333</td>\n",
       "      <td>2012</td>\n",
       "      <td>21201</td>\n",
       "    </tr>\n",
       "    <tr>\n",
       "      <th>11568</th>\n",
       "      <td>51</td>\n",
       "      <td>-0.054054</td>\n",
       "      <td>2012</td>\n",
       "      <td>21201</td>\n",
       "    </tr>\n",
       "    <tr>\n",
       "      <th>11569</th>\n",
       "      <td>52</td>\n",
       "      <td>-0.085106</td>\n",
       "      <td>2012</td>\n",
       "      <td>21201</td>\n",
       "    </tr>\n",
       "    <tr>\n",
       "      <th>11570</th>\n",
       "      <td>53</td>\n",
       "      <td>-0.032787</td>\n",
       "      <td>2012</td>\n",
       "      <td>21201</td>\n",
       "    </tr>\n",
       "    <tr>\n",
       "      <th>11571</th>\n",
       "      <td>54</td>\n",
       "      <td>-0.003155</td>\n",
       "      <td>2012</td>\n",
       "      <td>21201</td>\n",
       "    </tr>\n",
       "    <tr>\n",
       "      <th>11572</th>\n",
       "      <td>55</td>\n",
       "      <td>0.000000</td>\n",
       "      <td>2012</td>\n",
       "      <td>21201</td>\n",
       "    </tr>\n",
       "    <tr>\n",
       "      <th>11573</th>\n",
       "      <td>56</td>\n",
       "      <td>-0.048387</td>\n",
       "      <td>2012</td>\n",
       "      <td>21201</td>\n",
       "    </tr>\n",
       "    <tr>\n",
       "      <th>11574</th>\n",
       "      <td>61</td>\n",
       "      <td>0.062500</td>\n",
       "      <td>2012</td>\n",
       "      <td>21201</td>\n",
       "    </tr>\n",
       "    <tr>\n",
       "      <th>11575</th>\n",
       "      <td>62</td>\n",
       "      <td>0.042857</td>\n",
       "      <td>2012</td>\n",
       "      <td>21201</td>\n",
       "    </tr>\n",
       "    <tr>\n",
       "      <th>11576</th>\n",
       "      <td>71</td>\n",
       "      <td>-0.050000</td>\n",
       "      <td>2012</td>\n",
       "      <td>21201</td>\n",
       "    </tr>\n",
       "    <tr>\n",
       "      <th>11577</th>\n",
       "      <td>72</td>\n",
       "      <td>0.000000</td>\n",
       "      <td>2012</td>\n",
       "      <td>21201</td>\n",
       "    </tr>\n",
       "    <tr>\n",
       "      <th>11578</th>\n",
       "      <td>81</td>\n",
       "      <td>-0.038168</td>\n",
       "      <td>2012</td>\n",
       "      <td>21201</td>\n",
       "    </tr>\n",
       "    <tr>\n",
       "      <th>11579</th>\n",
       "      <td>99</td>\n",
       "      <td>0.000000</td>\n",
       "      <td>2012</td>\n",
       "      <td>21201</td>\n",
       "    </tr>\n",
       "  </tbody>\n",
       "</table>\n",
       "</div>"
      ],
      "text/plain": [
       "       business_code    growth  year zip_code\n",
       "11560             11  0.000000  2012    21201\n",
       "11561             21  0.000000  2012    21201\n",
       "11562             22  0.000000  2012    21201\n",
       "11563             23  0.150000  2012    21201\n",
       "11564             30  0.000000  2012    21201\n",
       "11565             42  0.136364  2012    21201\n",
       "11566             45 -0.020833  2012    21201\n",
       "11567             49  0.333333  2012    21201\n",
       "11568             51 -0.054054  2012    21201\n",
       "11569             52 -0.085106  2012    21201\n",
       "11570             53 -0.032787  2012    21201\n",
       "11571             54 -0.003155  2012    21201\n",
       "11572             55  0.000000  2012    21201\n",
       "11573             56 -0.048387  2012    21201\n",
       "11574             61  0.062500  2012    21201\n",
       "11575             62  0.042857  2012    21201\n",
       "11576             71 -0.050000  2012    21201\n",
       "11577             72  0.000000  2012    21201\n",
       "11578             81 -0.038168  2012    21201\n",
       "11579             99  0.000000  2012    21201"
      ]
     },
     "execution_count": 517,
     "metadata": {},
     "output_type": "execute_result"
    }
   ],
   "source": [
    "gb3.get_group((2012,'21201'))"
   ]
  },
  {
   "cell_type": "code",
   "execution_count": 518,
   "metadata": {
    "collapsed": false,
    "scrolled": true
   },
   "outputs": [
    {
     "data": {
      "text/plain": [
       "585"
      ]
     },
     "execution_count": 518,
     "metadata": {},
     "output_type": "execute_result"
    }
   ],
   "source": [
    "# original zip code\n",
    "len(zip_codes)"
   ]
  },
  {
   "cell_type": "code",
   "execution_count": 519,
   "metadata": {
    "collapsed": false
   },
   "outputs": [
    {
     "data": {
      "text/plain": [
       "578"
      ]
     },
     "execution_count": 519,
     "metadata": {},
     "output_type": "execute_result"
    }
   ],
   "source": [
    "# new zip code based on available data: it's fewer\n",
    "len(df_biz_growth.zip_code.unique())"
   ]
  },
  {
   "cell_type": "code",
   "execution_count": 520,
   "metadata": {
    "collapsed": false
   },
   "outputs": [
    {
     "data": {
      "text/plain": [
       "\"\\n    load: np.load('new_zip_codes.npy')\\n\""
      ]
     },
     "execution_count": 520,
     "metadata": {},
     "output_type": "execute_result"
    }
   ],
   "source": [
    "# we're getting only these zip codes\n",
    "new_zip = df_biz_growth.zip_code.unique()\n",
    "np.save('new_zip_codes', new_zip)\n",
    "\"\"\"\n",
    "    load: np.load('new_zip_codes.npy')\n",
    "\"\"\""
   ]
  }
 ],
 "metadata": {
  "kernelspec": {
   "display_name": "Python 2",
   "language": "python",
   "name": "python2"
  },
  "language_info": {
   "codemirror_mode": {
    "name": "ipython",
    "version": 2
   },
   "file_extension": ".py",
   "mimetype": "text/x-python",
   "name": "python",
   "nbconvert_exporter": "python",
   "pygments_lexer": "ipython2",
   "version": "2.7.10"
  }
 },
 "nbformat": 4,
 "nbformat_minor": 0
}
